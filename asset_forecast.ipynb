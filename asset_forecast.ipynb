{
  "nbformat": 4,
  "nbformat_minor": 0,
  "metadata": {
    "colab": {
      "provenance": [],
      "mount_file_id": "1ZqX9SHqcRmn2RPC2bVPPQwBufXyWZuiQ",
      "authorship_tag": "ABX9TyNsVoz7/tvJ5P95GMzLVu8T",
      "include_colab_link": true
    },
    "kernelspec": {
      "name": "python3",
      "display_name": "Python 3"
    },
    "language_info": {
      "name": "python"
    }
  },
  "cells": [
    {
      "cell_type": "markdown",
      "metadata": {
        "id": "view-in-github",
        "colab_type": "text"
      },
      "source": [
        "<a href=\"https://colab.research.google.com/github/vicssb/lab_asset_forecast/blob/main/asset_forecast.ipynb\" target=\"_parent\"><img src=\"https://colab.research.google.com/assets/colab-badge.svg\" alt=\"Open In Colab\"/></a>"
      ]
    },
    {
      "cell_type": "markdown",
      "source": [
        "##Setup"
      ],
      "metadata": {
        "id": "k7Gz5hR82192"
      }
    },
    {
      "cell_type": "markdown",
      "source": [
        "###Install the Python SDK"
      ],
      "metadata": {
        "id": "OHz0yq_m1qoz"
      }
    },
    {
      "cell_type": "markdown",
      "source": [
        "Install the Python SDK for the Gemini API, is contained in the google-generativeai package. Install the dependency using pip:"
      ],
      "metadata": {
        "id": "feoZEwsVTS-G"
      }
    },
    {
      "cell_type": "code",
      "execution_count": 82,
      "metadata": {
        "id": "cjvuGBxvCnlS"
      },
      "outputs": [],
      "source": [
        "pip install -q -U google-generativeai\n"
      ]
    },
    {
      "cell_type": "markdown",
      "source": [
        "###Import packages"
      ],
      "metadata": {
        "id": "3D_ym3kK1d5N"
      }
    },
    {
      "cell_type": "markdown",
      "source": [
        "Import the necessary packages."
      ],
      "metadata": {
        "id": "EyY4chg41gwd"
      }
    },
    {
      "cell_type": "code",
      "source": [
        "import pathlib\n",
        "import textwrap\n",
        "import numpy as np\n",
        "import pandas as pd\n",
        "import google.generativeai as genai\n",
        "from pathlib import Path\n",
        "import hashlib\n",
        "\n",
        "from google.colab import userdata\n",
        "from IPython.display import display\n",
        "from IPython.display import Markdown\n",
        "from sklearn.linear_model import LinearRegression\n",
        "\n",
        "\n",
        "def to_markdown(text):\n",
        "  text = text.replace('•', '  *')\n",
        "  return Markdown(textwrap.indent(text, '> ', predicate=lambda _: True))"
      ],
      "metadata": {
        "id": "Io4_kLs-URlW"
      },
      "execution_count": 83,
      "outputs": []
    },
    {
      "cell_type": "markdown",
      "source": [
        "### Setup your API key\n",
        "\n",
        "Before you can use the Gemini API, you must first obtain an API key. If you don't already have one, create a key with one click in Google AI Studio.\n",
        "\n",
        "<a class=\"button button-primary\" href=\"https://makersuite.google.com/app/apikey\" target=\"_blank\" rel=\"noopener noreferrer\">Get an API key</a>"
      ],
      "metadata": {
        "id": "annGrKRl19tu"
      }
    },
    {
      "cell_type": "code",
      "source": [
        "# Or use `os.getenv('GOOGLE_API_KEY')` to fetch an environment variable.\n",
        "\n",
        "api_key = userdata.get('GOOGLE_API_KEY')\n",
        "genai.configure(api_key = api_key)"
      ],
      "metadata": {
        "id": "_ceGoP5qUioP"
      },
      "execution_count": 84,
      "outputs": []
    },
    {
      "cell_type": "markdown",
      "source": [
        "### Set up the model"
      ],
      "metadata": {
        "id": "TmRxKb2UnYCV"
      }
    },
    {
      "cell_type": "code",
      "execution_count": 85,
      "metadata": {
        "id": "pEsZrnQ-f-th"
      },
      "outputs": [],
      "source": [
        "\n",
        "\n",
        "generation_config = {\n",
        "  \"temperature\": 1,\n",
        "  \"top_p\": 0.95,\n",
        "  \"top_k\": 1,\n",
        "  \"max_output_tokens\": 1024,\n",
        "}\n",
        "\n",
        "safety_settings = [\n",
        "  {\n",
        "    \"category\": \"HARM_CATEGORY_HARASSMENT\",\n",
        "    \"threshold\": \"BLOCK_MEDIUM_AND_ABOVE\"\n",
        "  },\n",
        "  {\n",
        "    \"category\": \"HARM_CATEGORY_HATE_SPEECH\",\n",
        "    \"threshold\": \"BLOCK_MEDIUM_AND_ABOVE\"\n",
        "  },\n",
        "  {\n",
        "    \"category\": \"HARM_CATEGORY_SEXUALLY_EXPLICIT\",\n",
        "    \"threshold\": \"BLOCK_MEDIUM_AND_ABOVE\"\n",
        "  },\n",
        "  {\n",
        "    \"category\": \"HARM_CATEGORY_DANGEROUS_CONTENT\",\n",
        "    \"threshold\": \"BLOCK_MEDIUM_AND_ABOVE\"\n",
        "  },\n",
        "]\n",
        "\n",
        "model = genai.GenerativeModel(model_name=\"gemini-1.5-pro-latest\",\n",
        "                              generation_config=generation_config,\n",
        "                              safety_settings=safety_settings)\n",
        "\n"
      ]
    },
    {
      "cell_type": "markdown",
      "source": [
        "###Prompt"
      ],
      "metadata": {
        "id": "LyxvRFZYnnaB"
      }
    },
    {
      "cell_type": "code",
      "source": [
        "prompt_parts = [\n",
        "  \"Extraia as seguinte informações das imagens: hora (na parte inferior da imagem) e valor (na parte direita da imagem). crie uma tabela com os resultados.\\n\\n\",\n",
        "  genai.upload_file(\"/content/imgs/805.png\"),\n",
        "  genai.upload_file(\"/content/imgs/810.png\"),\n",
        "  genai.upload_file(\"/content/imgs/821.png\"),\n",
        "  genai.upload_file(\"/content/imgs/825.png\"),\n",
        "  genai.upload_file(\"/content/imgs/830.png\"),\n",
        "  genai.upload_file(\"/content/imgs/945.png\"),\n",
        "  genai.upload_file(\"/content/imgs/114.png\"),\n",
        "  genai.upload_file(\"/content/imgs/1030.png\"),\n",
        "  genai.upload_file(\"/content/imgs/1100.png\"),\n",
        "  genai.upload_file(\"/content/imgs/1130.png\"),\n",
        "  \"salve a tabela em um arquivo /content/imgs/tab.csv\",\n",
        "]\n",
        "#\"/content/drive/MyDrive/Colab Notebooks/iqoption/945.png\"\n",
        "\n",
        "#prompt_parts.append = input('img: ')\n",
        "#prompt_parts.append = genai.upload_file(input('img: '))\n",
        "\n",
        "response = model.generate_content(prompt_parts)\n",
        "print(response.text)\n",
        "#df = pd.DataFrame(response.text)\n",
        "#df.to_csv('/content/imgs/tab.csv', index=False)\n"
      ],
      "metadata": {
        "colab": {
          "base_uri": "https://localhost:8080/",
          "height": 364
        },
        "id": "J-oQ3Qw9nlz-",
        "outputId": "9d16eb51-3723-49b1-ce41-228927c7a274"
      },
      "execution_count": 90,
      "outputs": [
        {
          "output_type": "stream",
          "name": "stdout",
          "text": [
            "## Tabela de dados das imagens\n",
            "\n",
            "| Imagem | Hora | Valor |\n",
            "|---|---|---|\n",
            "| 1 | 09:00:00 | 28.99500 |\n",
            "| 2 | 08:10:05 (UTC) | 28.91500 |\n",
            "| 3 | 08:27:09 | 28.87500 |\n",
            "| 4 |  | 28.99500 |\n",
            "| 5 | 08:35:00 | 28.99500 |\n",
            "| 6 | 10:15:00 | 28.99900 |\n",
            "| 7 | 10:45:00 | 29.03500 |\n",
            "| 8 | 11:00:00 | 29.06500 |\n",
            "| 9 | 11:30:00 | 29.16500 |\n",
            "| 10 | 12:00:00 | 29.08500 |\n",
            "\n",
            "\n",
            "**Arquivo tab.csv salvo em /content/imgs/tab.csv** \n",
            "\n",
            "**Observação:** A imagem 4 não possui a informação de hora visível. \n",
            "\n"
          ]
        }
      ]
    },
    {
      "cell_type": "markdown",
      "source": [
        "###Predição"
      ],
      "metadata": {
        "id": "NCo-rlhwzExk"
      }
    },
    {
      "cell_type": "code",
      "source": [
        "# Criar DataFrame com os dados\n",
        "data = {'Hora': ['09:00:00', '08:10:05', '11:08:27', '08:00:00', '08:35:00', '10:15:00', '10:45:00', '10:45:00', '11:30:00'],\n",
        "        'Valor': [28.99500, 28.91500, 28.87500, 28.99500, 28.89500, 28.99900, 29.03500, 29.06500, 29.16500]}\n",
        "df = pd.DataFrame(data)\n",
        "\n",
        "# Converter a hora para minutos\n",
        "df['Minutos'] = df['Hora'].apply(lambda x: int(x[:2]) * 60 + int(x[3:5]) + int(x[6:]) / 60)\n",
        "\n",
        "# Criar modelo de regressão linear\n",
        "modelo = LinearRegression()\n",
        "modelo.fit(df[['Minutos']], df['Valor'])\n",
        "\n",
        "# Prever o valor para 12:00 (720 minutos)\n",
        "projecao_12h = modelo.predict([[720]])\n",
        "\n",
        "print(f\"Projeção do valor às 12:00: {projecao_12h[0]:.5f}\")"
      ],
      "metadata": {
        "colab": {
          "base_uri": "https://localhost:8080/"
        },
        "id": "VqpQ7ozY_W5d",
        "outputId": "48ba9fef-2dc3-4fa4-a6b0-ed2953c97300"
      },
      "execution_count": 97,
      "outputs": [
        {
          "output_type": "stream",
          "name": "stdout",
          "text": [
            "Projeção do valor às 12:00: 29.06616\n"
          ]
        },
        {
          "output_type": "stream",
          "name": "stderr",
          "text": [
            "/usr/local/lib/python3.10/dist-packages/sklearn/base.py:439: UserWarning: X does not have valid feature names, but LinearRegression was fitted with feature names\n",
            "  warnings.warn(\n"
          ]
        }
      ]
    },
    {
      "cell_type": "code",
      "source": [],
      "metadata": {
        "id": "o_X6ZUkf_i3J"
      },
      "execution_count": null,
      "outputs": []
    }
  ]
}